{
 "cells": [
  {
   "cell_type": "markdown",
   "metadata": {},
   "source": [
    "                                 A/B Testing Project - Udacity Free Trial Screener \n",
    "\n",
    "The Udacity course home pages have two options: \"start free trial\" and \"access course materials.\" Clicking \"start free trial\" prompts the user to enter their credit card information, subsequently enrolling them in a 14 day free trial of the course, after which they are automatically charged. Users who click \"access course materials\" will be able to view course content but receive no coaching support, verified certificate, or project feedback.\n",
    "\n",
    "For this experiment Udacity tested a change wherein those users who clicked \"start free trial\" were asked how much time they were willing to devote to the course. Users choosing 5 or more hours per week would be taken through the checkout process as usual. For users indicating fewer than 5 hours per week a message would appear indicating the need for a greater time commitment to enable success and suggesting they might like to access the free content. At this point the student would have the option to continue enrolling in the free trial or access the course materials for free.\n",
    "\n",
    "The hypothesis was that this might set clearer expectations for students upfront, thus reducing the number of frustrated students who left the free trial because they didn't have enough time—without significantly reducing the number of students to continue past the free trial and eventually complete the course. If this hypothesis held true, Udacity could improve the overall student experience and improve coaches' capacity to support students who are likely to complete the course."
   ]
  },
  {
   "cell_type": "code",
   "execution_count": 1,
   "metadata": {
    "collapsed": true
   },
   "outputs": [],
   "source": [
    "# import tools\n",
    "import numpy as np\n",
    "import pandas as pd\n",
    "from __future__ import division"
   ]
  },
  {
   "cell_type": "code",
   "execution_count": 2,
   "metadata": {
    "collapsed": false
   },
   "outputs": [
    {
     "data": {
      "text/html": [
       "<div>\n",
       "<table border=\"1\" class=\"dataframe\">\n",
       "  <thead>\n",
       "    <tr style=\"text-align: right;\">\n",
       "      <th></th>\n",
       "      <th>metric</th>\n",
       "      <th>baseline_value</th>\n",
       "    </tr>\n",
       "  </thead>\n",
       "  <tbody>\n",
       "    <tr>\n",
       "      <th>0</th>\n",
       "      <td>Unique cookies to view page per day:</td>\n",
       "      <td>40000.000000</td>\n",
       "    </tr>\n",
       "    <tr>\n",
       "      <th>1</th>\n",
       "      <td>Unique cookies to click \"Start free trial\" per...</td>\n",
       "      <td>3200.000000</td>\n",
       "    </tr>\n",
       "    <tr>\n",
       "      <th>2</th>\n",
       "      <td>Enrollments per day:</td>\n",
       "      <td>660.000000</td>\n",
       "    </tr>\n",
       "    <tr>\n",
       "      <th>3</th>\n",
       "      <td>Click-through-probability on \"Start free trial\":</td>\n",
       "      <td>0.080000</td>\n",
       "    </tr>\n",
       "    <tr>\n",
       "      <th>4</th>\n",
       "      <td>Probability of enrolling, given click:</td>\n",
       "      <td>0.206250</td>\n",
       "    </tr>\n",
       "    <tr>\n",
       "      <th>5</th>\n",
       "      <td>Probability of payment, given enroll:</td>\n",
       "      <td>0.530000</td>\n",
       "    </tr>\n",
       "    <tr>\n",
       "      <th>6</th>\n",
       "      <td>Probability of payment, given click</td>\n",
       "      <td>0.109313</td>\n",
       "    </tr>\n",
       "  </tbody>\n",
       "</table>\n",
       "</div>"
      ],
      "text/plain": [
       "                                              metric  baseline_value\n",
       "0               Unique cookies to view page per day:    40000.000000\n",
       "1  Unique cookies to click \"Start free trial\" per...     3200.000000\n",
       "2                               Enrollments per day:      660.000000\n",
       "3   Click-through-probability on \"Start free trial\":        0.080000\n",
       "4             Probability of enrolling, given click:        0.206250\n",
       "5              Probability of payment, given enroll:        0.530000\n",
       "6                Probability of payment, given click        0.109313"
      ]
     },
     "execution_count": 2,
     "metadata": {},
     "output_type": "execute_result"
    }
   ],
   "source": [
    "# import baseline data\n",
    "df_baseline = pd.read_csv(\"Final Project Baseline Values.csv\", index_col=False,header = None, names = ['metric','baseline_value'])\n",
    "df_baseline"
   ]
  },
  {
   "cell_type": "code",
   "execution_count": 3,
   "metadata": {
    "collapsed": false
   },
   "outputs": [],
   "source": [
    "# import experiment data\n",
    "df_control = pd.read_csv(\"Final Project Results _Control.csv\")\n",
    "df_experiment = pd.read_csv(\"Final Project Results _Experiment.csv\")"
   ]
  },
  {
   "cell_type": "code",
   "execution_count": 4,
   "metadata": {
    "collapsed": false
   },
   "outputs": [
    {
     "data": {
      "text/html": [
       "<div>\n",
       "<table border=\"1\" class=\"dataframe\">\n",
       "  <thead>\n",
       "    <tr style=\"text-align: right;\">\n",
       "      <th></th>\n",
       "      <th>Date</th>\n",
       "      <th>Pageviews</th>\n",
       "      <th>Clicks</th>\n",
       "      <th>Enrollments</th>\n",
       "      <th>Payments</th>\n",
       "    </tr>\n",
       "  </thead>\n",
       "  <tbody>\n",
       "    <tr>\n",
       "      <th>0</th>\n",
       "      <td>Sat, Oct 11</td>\n",
       "      <td>7723</td>\n",
       "      <td>687</td>\n",
       "      <td>134.0</td>\n",
       "      <td>70.0</td>\n",
       "    </tr>\n",
       "    <tr>\n",
       "      <th>1</th>\n",
       "      <td>Sun, Oct 12</td>\n",
       "      <td>9102</td>\n",
       "      <td>779</td>\n",
       "      <td>147.0</td>\n",
       "      <td>70.0</td>\n",
       "    </tr>\n",
       "    <tr>\n",
       "      <th>2</th>\n",
       "      <td>Mon, Oct 13</td>\n",
       "      <td>10511</td>\n",
       "      <td>909</td>\n",
       "      <td>167.0</td>\n",
       "      <td>95.0</td>\n",
       "    </tr>\n",
       "    <tr>\n",
       "      <th>3</th>\n",
       "      <td>Tue, Oct 14</td>\n",
       "      <td>9871</td>\n",
       "      <td>836</td>\n",
       "      <td>156.0</td>\n",
       "      <td>105.0</td>\n",
       "    </tr>\n",
       "    <tr>\n",
       "      <th>4</th>\n",
       "      <td>Wed, Oct 15</td>\n",
       "      <td>10014</td>\n",
       "      <td>837</td>\n",
       "      <td>163.0</td>\n",
       "      <td>64.0</td>\n",
       "    </tr>\n",
       "  </tbody>\n",
       "</table>\n",
       "</div>"
      ],
      "text/plain": [
       "          Date  Pageviews  Clicks  Enrollments  Payments\n",
       "0  Sat, Oct 11       7723     687        134.0      70.0\n",
       "1  Sun, Oct 12       9102     779        147.0      70.0\n",
       "2  Mon, Oct 13      10511     909        167.0      95.0\n",
       "3  Tue, Oct 14       9871     836        156.0     105.0\n",
       "4  Wed, Oct 15      10014     837        163.0      64.0"
      ]
     },
     "execution_count": 4,
     "metadata": {},
     "output_type": "execute_result"
    }
   ],
   "source": [
    "# Preview control group data\n",
    "df_control.head()"
   ]
  },
  {
   "cell_type": "code",
   "execution_count": 5,
   "metadata": {
    "collapsed": false
   },
   "outputs": [
    {
     "data": {
      "text/html": [
       "<div>\n",
       "<table border=\"1\" class=\"dataframe\">\n",
       "  <thead>\n",
       "    <tr style=\"text-align: right;\">\n",
       "      <th></th>\n",
       "      <th>Date</th>\n",
       "      <th>Pageviews</th>\n",
       "      <th>Clicks</th>\n",
       "      <th>Enrollments</th>\n",
       "      <th>Payments</th>\n",
       "    </tr>\n",
       "  </thead>\n",
       "  <tbody>\n",
       "    <tr>\n",
       "      <th>0</th>\n",
       "      <td>Sat, Oct 11</td>\n",
       "      <td>7716</td>\n",
       "      <td>686</td>\n",
       "      <td>105.0</td>\n",
       "      <td>34.0</td>\n",
       "    </tr>\n",
       "    <tr>\n",
       "      <th>1</th>\n",
       "      <td>Sun, Oct 12</td>\n",
       "      <td>9288</td>\n",
       "      <td>785</td>\n",
       "      <td>116.0</td>\n",
       "      <td>91.0</td>\n",
       "    </tr>\n",
       "    <tr>\n",
       "      <th>2</th>\n",
       "      <td>Mon, Oct 13</td>\n",
       "      <td>10480</td>\n",
       "      <td>884</td>\n",
       "      <td>145.0</td>\n",
       "      <td>79.0</td>\n",
       "    </tr>\n",
       "    <tr>\n",
       "      <th>3</th>\n",
       "      <td>Tue, Oct 14</td>\n",
       "      <td>9867</td>\n",
       "      <td>827</td>\n",
       "      <td>138.0</td>\n",
       "      <td>92.0</td>\n",
       "    </tr>\n",
       "    <tr>\n",
       "      <th>4</th>\n",
       "      <td>Wed, Oct 15</td>\n",
       "      <td>9793</td>\n",
       "      <td>832</td>\n",
       "      <td>140.0</td>\n",
       "      <td>94.0</td>\n",
       "    </tr>\n",
       "  </tbody>\n",
       "</table>\n",
       "</div>"
      ],
      "text/plain": [
       "          Date  Pageviews  Clicks  Enrollments  Payments\n",
       "0  Sat, Oct 11       7716     686        105.0      34.0\n",
       "1  Sun, Oct 12       9288     785        116.0      91.0\n",
       "2  Mon, Oct 13      10480     884        145.0      79.0\n",
       "3  Tue, Oct 14       9867     827        138.0      92.0\n",
       "4  Wed, Oct 15       9793     832        140.0      94.0"
      ]
     },
     "execution_count": 5,
     "metadata": {},
     "output_type": "execute_result"
    }
   ],
   "source": [
    "# Preview experiment group data\n",
    "df_experiment.head()"
   ]
  },
  {
   "cell_type": "markdown",
   "metadata": {},
   "source": [
    "Measuring Standard Deviation\n",
    "\n",
    "The number of clicks and enrollments follows a binomial distribution, and by the central limit theorem, the distribution of the three rates (gross conversion, retention, and net conversion) is Gaussian. \n",
    "\n",
    "Given the daily sample of 5000 cookies, the number of clicks and enrollments can be calculated using the baseline values"
   ]
  },
  {
   "cell_type": "code",
   "execution_count": 6,
   "metadata": {
    "collapsed": false
   },
   "outputs": [],
   "source": [
    "# Give Basedline values\n",
    "cookie_base = 40000\n",
    "click_base = 3200\n",
    "enrollment_base =660 \n",
    "\n",
    "# Daily pageview cookies\n",
    "dailycookie =5000\n",
    "n_click = dailycookie*click_base/cookie_base\n",
    "n_enrollment = dailycookie*enrollment_base/cookie_base"
   ]
  },
  {
   "cell_type": "code",
   "execution_count": 7,
   "metadata": {
    "collapsed": false
   },
   "outputs": [
    {
     "name": "stdout",
     "output_type": "stream",
     "text": [
      "the number of clicks is 400\n",
      "the number of enrollment is 82.500000\n"
     ]
    }
   ],
   "source": [
    "# Print out the results\n",
    "print 'the number of clicks is %d' % (n_click)\n",
    "print 'the number of enrollment is %f' % (n_enrollment)"
   ]
  },
  {
   "cell_type": "code",
   "execution_count": 8,
   "metadata": {
    "collapsed": false
   },
   "outputs": [
    {
     "name": "stdout",
     "output_type": "stream",
     "text": [
      "the standard deviation of gross conversion is 0.0202\n"
     ]
    }
   ],
   "source": [
    "# Calculate standard deviation\n",
    "# Gross conversion\n",
    "grossconv_sd = round(np.sqrt((.206250*(1-.206250))/400),4)\n",
    "print 'the standard deviation of gross conversion is %s' %(grossconv_sd)"
   ]
  },
  {
   "cell_type": "code",
   "execution_count": 9,
   "metadata": {
    "collapsed": false
   },
   "outputs": [
    {
     "name": "stdout",
     "output_type": "stream",
     "text": [
      "the standard deviation of retention is 0.0549\n"
     ]
    }
   ],
   "source": [
    "# Retention\n",
    "rentention_sd = round(np.sqrt((.53*(1-.53))/82.5),4)\n",
    "print 'the standard deviation of retention is %s' %(rentention_sd)"
   ]
  },
  {
   "cell_type": "code",
   "execution_count": 10,
   "metadata": {
    "collapsed": false
   },
   "outputs": [
    {
     "name": "stdout",
     "output_type": "stream",
     "text": [
      "the standard deviation of net conversion is 0.0156\n"
     ]
    }
   ],
   "source": [
    "# Net conversion\n",
    "netconv_sd = round(np.sqrt((.109313*(1-.109313))/400),4)\n",
    "print 'the standard deviation of net conversion is %s' %(netconv_sd)"
   ]
  },
  {
   "cell_type": "markdown",
   "metadata": {},
   "source": [
    "Sizing: Number of Samples vs. Power\n",
    "\n",
    "The three evaluation metrics in the experiment have high correlation, thus the Bonferroni correction will be too conservative and will not be used during the analysis phase.\n",
    "\n",
    "Given the type I error rate of α equals 0.05, type II error β equals 0.20, and the minimum detectable effect for each evaluation metric, the sample size required to power the experiment appropriately can be calculated using Evan Miller. Then, the total number of pageviews can be calculated using the given unit to pageview ratio. \n",
    "Click/pageview ratio = 3200/40000 =0.08\n",
    "Enrollment/pageview ratio = 660/40000 = .0165\n",
    "\n",
    "Table2. Results of sample size calculation\n",
    "Evaluation Metric\tBaseline Value\tMinimum Detectable Effect\tSample size \tUnit/pageview ratio\tTotal number of pageviews\n",
    "Gross conversion\t0.20625\t                0.0202\t                25838\t           0.08\t                645,950\n",
    "Retention\t        0.53\t                0.0549\t                39115\t           0.0165\t            4,741,213\n",
    "Net conversion\t    0.1093125\t            0.0156\t                27413\t           0.08\t                685,325\n",
    "\n",
    "\n",
    "Duration vs. Exposure\n",
    "\n",
    "With daily pageview baseline value of 40000, the number of pageview for retention would need about 119 days, even if we divert 100% of traffic. It is unreasonably long for an A/B testing experiment. Therefore, I eliminate retention as the evaluation metric. The total number of required pageviews is decreased to 685,325. Considering that this is not a risky experiment as the change is small and it won't cause too much trouble in the overall business, I choose to direct 70% of the traffic (40000*0.7 =28000) to the experiment. Thus, it would takes approximately 25 days (685,325/28000 =25) to run the experiment. \n"
   ]
  },
  {
   "cell_type": "markdown",
   "metadata": {},
   "source": [
    "Sanity Checks\n",
    "\n",
    "Having conducted the experiment, each of the invariant metrics needs double-check whether the underlying assumptions are being met. Cookies and clicks are expected to be divided evenly between the control and experimental groups. Using an expected rate of diversion of 0.5, the standard deviation can be calculated and a 95% confidence interval can be constructed around the expected value. "
   ]
  },
  {
   "cell_type": "code",
   "execution_count": 21,
   "metadata": {
    "collapsed": false
   },
   "outputs": [
    {
     "data": {
      "text/html": [
       "<div>\n",
       "<table border=\"1\" class=\"dataframe\">\n",
       "  <thead>\n",
       "    <tr style=\"text-align: right;\">\n",
       "      <th></th>\n",
       "      <th>Control</th>\n",
       "      <th>Experiment</th>\n",
       "    </tr>\n",
       "  </thead>\n",
       "  <tbody>\n",
       "    <tr>\n",
       "      <th>cookies</th>\n",
       "      <td>345543</td>\n",
       "      <td>344660</td>\n",
       "    </tr>\n",
       "    <tr>\n",
       "      <th>clicks</th>\n",
       "      <td>28378</td>\n",
       "      <td>28325</td>\n",
       "    </tr>\n",
       "  </tbody>\n",
       "</table>\n",
       "</div>"
      ],
      "text/plain": [
       "         Control  Experiment\n",
       "cookies   345543      344660\n",
       "clicks     28378       28325"
      ]
     },
     "execution_count": 21,
     "metadata": {},
     "output_type": "execute_result"
    }
   ],
   "source": [
    "# Summarize data to create a table \n",
    "results = {\"Control\":pd.Series([df_control.Pageviews.sum(),df_control.Clicks.sum()],\n",
    "                                  index = [\"cookies\",\"clicks\"]),\n",
    "           \"Experiment\":pd.Series([df_experiment.Pageviews.sum(),df_experiment.Clicks.sum()],\n",
    "                               index = [\"cookies\",\"clicks\"])}\n",
    "df_results = pd.DataFrame(results)\n",
    "df_results"
   ]
  },
  {
   "cell_type": "code",
   "execution_count": 22,
   "metadata": {
    "collapsed": false
   },
   "outputs": [],
   "source": [
    "# Calculate SE, ME, CI and Diff\n",
    "df_results['Total'] = df_results.Control + df_results.Experiment\n",
    "df_results['Expected_value'] = 0.5\n",
    "df_results['Observed_value'] = df_results.Experiment/df_results.Total\n",
    "df_results['Standard_Error'] = np.sqrt((df_results.Expected_value * (1-df_results.Expected_value))*(1/df_results.Control) + (1/df_results.Experiment))\n",
    "df_results['Marginal_Error'] = df_results.Standard_Error * 1.96\n",
    "df_results['CI_lower'] = df_results.Expected_value - df_results.Marginal_Error\n",
    "df_results['CI_upper'] = df_results.Expected_value + df_results.Marginal_Error\n",
    "df_results[\"Pass_Sanity\"] = df_results.apply(lambda x: (x.Observed_value > x.CI_lower) and (x.Observed_value < x.CI_upper),axis=1)\n",
    "df_results['Diff'] = abs((df_results.Experiment - df_results.Control)/df_results.Total)"
   ]
  },
  {
   "cell_type": "code",
   "execution_count": 23,
   "metadata": {
    "collapsed": false
   },
   "outputs": [
    {
     "data": {
      "text/html": [
       "<div>\n",
       "<table border=\"1\" class=\"dataframe\">\n",
       "  <thead>\n",
       "    <tr style=\"text-align: right;\">\n",
       "      <th></th>\n",
       "      <th>Control</th>\n",
       "      <th>Experiment</th>\n",
       "      <th>Total</th>\n",
       "      <th>Expected_value</th>\n",
       "      <th>Observed_value</th>\n",
       "      <th>Standard_Error</th>\n",
       "      <th>Marginal_Error</th>\n",
       "      <th>CI_lower</th>\n",
       "      <th>CI_upper</th>\n",
       "      <th>Pass_Sanity</th>\n",
       "      <th>Diff</th>\n",
       "    </tr>\n",
       "  </thead>\n",
       "  <tbody>\n",
       "    <tr>\n",
       "      <th>cookies</th>\n",
       "      <td>345543</td>\n",
       "      <td>344660</td>\n",
       "      <td>690203</td>\n",
       "      <td>0.5</td>\n",
       "      <td>0.499360</td>\n",
       "      <td>0.001904</td>\n",
       "      <td>0.003732</td>\n",
       "      <td>0.496268</td>\n",
       "      <td>0.503732</td>\n",
       "      <td>True</td>\n",
       "      <td>0.001279</td>\n",
       "    </tr>\n",
       "    <tr>\n",
       "      <th>clicks</th>\n",
       "      <td>28378</td>\n",
       "      <td>28325</td>\n",
       "      <td>56703</td>\n",
       "      <td>0.5</td>\n",
       "      <td>0.499533</td>\n",
       "      <td>0.006642</td>\n",
       "      <td>0.013018</td>\n",
       "      <td>0.486982</td>\n",
       "      <td>0.513018</td>\n",
       "      <td>True</td>\n",
       "      <td>0.000935</td>\n",
       "    </tr>\n",
       "  </tbody>\n",
       "</table>\n",
       "</div>"
      ],
      "text/plain": [
       "         Control  Experiment   Total  Expected_value  Observed_value  \\\n",
       "cookies   345543      344660  690203             0.5        0.499360   \n",
       "clicks     28378       28325   56703             0.5        0.499533   \n",
       "\n",
       "         Standard_Error  Marginal_Error  CI_lower  CI_upper Pass_Sanity  \\\n",
       "cookies        0.001904        0.003732  0.496268  0.503732        True   \n",
       "clicks         0.006642        0.013018  0.486982  0.513018        True   \n",
       "\n",
       "             Diff  \n",
       "cookies  0.001279  \n",
       "clicks   0.000935  "
      ]
     },
     "execution_count": 23,
     "metadata": {},
     "output_type": "execute_result"
    }
   ],
   "source": [
    "# Overview the results\n",
    "df_results"
   ]
  },
  {
   "cell_type": "markdown",
   "metadata": {
    "collapsed": false
   },
   "source": [
    "Result Analysis\n",
    "\n",
    "Effect Size Tests\n",
    "\n",
    "For each evaluation metric, statistical and practical significance (whether or not the size of the effect is relevant from a business standpoint) should be tested. The minimum detectable effect is the smallest difference that we will accept between experimental and control groups in order to be practically significant. \n",
    "\n",
    "Using the data collected, we calculate the rate in experimental and control groups for each evaluation metric (gross conversion, net conversion),and then define a new variable that is the difference between the rates (experiment - control). Using this newly defined variable, we construct a confidence interval which will then set a range for the expected difference. "
   ]
  },
  {
   "cell_type": "code",
   "execution_count": 24,
   "metadata": {
    "collapsed": true
   },
   "outputs": [],
   "source": [
    "# subset data by deleting null values for both control and experiment group\n",
    "\n",
    "df_control_sub = df_control[pd.isnull(df_control.Enrollments) != True]\n",
    "df_experiment_sub = df_experiment[pd.isnull(df_control.Enrollments) != True]"
   ]
  },
  {
   "cell_type": "code",
   "execution_count": 27,
   "metadata": {
    "collapsed": false
   },
   "outputs": [
    {
     "data": {
      "text/html": [
       "<div>\n",
       "<table border=\"1\" class=\"dataframe\">\n",
       "  <thead>\n",
       "    <tr style=\"text-align: right;\">\n",
       "      <th></th>\n",
       "      <th>Control</th>\n",
       "      <th>Experiment</th>\n",
       "    </tr>\n",
       "  </thead>\n",
       "  <tbody>\n",
       "    <tr>\n",
       "      <th>cookies</th>\n",
       "      <td>212163.0</td>\n",
       "      <td>211362.0</td>\n",
       "    </tr>\n",
       "    <tr>\n",
       "      <th>clicks</th>\n",
       "      <td>17293.0</td>\n",
       "      <td>17260.0</td>\n",
       "    </tr>\n",
       "    <tr>\n",
       "      <th>enrollments</th>\n",
       "      <td>3785.0</td>\n",
       "      <td>3423.0</td>\n",
       "    </tr>\n",
       "    <tr>\n",
       "      <th>payments</th>\n",
       "      <td>2033.0</td>\n",
       "      <td>1945.0</td>\n",
       "    </tr>\n",
       "  </tbody>\n",
       "</table>\n",
       "</div>"
      ],
      "text/plain": [
       "              Control  Experiment\n",
       "cookies      212163.0    211362.0\n",
       "clicks        17293.0     17260.0\n",
       "enrollments    3785.0      3423.0\n",
       "payments       2033.0      1945.0"
      ]
     },
     "execution_count": 27,
     "metadata": {},
     "output_type": "execute_result"
    }
   ],
   "source": [
    "# summarize data to create a table\n",
    "\n",
    "results_sub = {\"Control\":pd.Series([df_control_sub.Pageviews.sum(),df_control_sub.Clicks.sum(),\n",
    "                                  df_control_sub.Enrollments.sum(),df_control_sub.Payments.sum()],\n",
    "                                  index = [\"cookies\",\"clicks\",\"enrollments\",\"payments\"]),\n",
    "           \"Experiment\":pd.Series([df_experiment_sub.Pageviews.sum(),df_experiment_sub.Clicks.sum(),\n",
    "                               df_experiment_sub.Enrollments.sum(),df_experiment_sub.Payments.sum()],\n",
    "                               index = [\"cookies\",\"clicks\",\"enrollments\",\"payments\"])}\n",
    "df_results_sub = pd.DataFrame(results_sub)\n",
    "\n",
    "# Preview new data summary\n",
    "df_results_sub"
   ]
  },
  {
   "cell_type": "code",
   "execution_count": 28,
   "metadata": {
    "collapsed": false
   },
   "outputs": [
    {
     "data": {
      "text/html": [
       "<div>\n",
       "<table border=\"1\" class=\"dataframe\">\n",
       "  <thead>\n",
       "    <tr style=\"text-align: right;\">\n",
       "      <th></th>\n",
       "      <th>Control</th>\n",
       "      <th>Experiment</th>\n",
       "      <th>Total</th>\n",
       "    </tr>\n",
       "  </thead>\n",
       "  <tbody>\n",
       "    <tr>\n",
       "      <th>cookies</th>\n",
       "      <td>212163.0</td>\n",
       "      <td>211362.0</td>\n",
       "      <td>423525.0</td>\n",
       "    </tr>\n",
       "    <tr>\n",
       "      <th>clicks</th>\n",
       "      <td>17293.0</td>\n",
       "      <td>17260.0</td>\n",
       "      <td>34553.0</td>\n",
       "    </tr>\n",
       "    <tr>\n",
       "      <th>enrollments</th>\n",
       "      <td>3785.0</td>\n",
       "      <td>3423.0</td>\n",
       "      <td>7208.0</td>\n",
       "    </tr>\n",
       "    <tr>\n",
       "      <th>payments</th>\n",
       "      <td>2033.0</td>\n",
       "      <td>1945.0</td>\n",
       "      <td>3978.0</td>\n",
       "    </tr>\n",
       "  </tbody>\n",
       "</table>\n",
       "</div>"
      ],
      "text/plain": [
       "              Control  Experiment     Total\n",
       "cookies      212163.0    211362.0  423525.0\n",
       "clicks        17293.0     17260.0   34553.0\n",
       "enrollments    3785.0      3423.0    7208.0\n",
       "payments       2033.0      1945.0    3978.0"
      ]
     },
     "execution_count": 28,
     "metadata": {},
     "output_type": "execute_result"
    }
   ],
   "source": [
    "# Create a new variable: Total\n",
    "df_results_sub['Total'] = df_results_sub.Control + df_results_sub.Experiment\n",
    "df_results_sub"
   ]
  },
  {
   "cell_type": "code",
   "execution_count": 30,
   "metadata": {
    "collapsed": false
   },
   "outputs": [],
   "source": [
    "# Get values for calculation\n",
    "\n",
    "# experiment values\n",
    "\n",
    "enrollments_exp = df_results_sub.loc[\"enrollments\"].Experiment\n",
    "clicks_exp = df_results_sub.loc[\"clicks\"].Experiment\n",
    "payments_exp = df_results_sub.loc[\"payments\"].Experiment\n",
    "\n",
    "# control values\n",
    "\n",
    "enrollments_cont = df_results_sub.loc[\"enrollments\"].Control\n",
    "clicks_cont = df_results_sub.loc[\"clicks\"].Control\n",
    "payments_cont = df_results_sub.loc[\"payments\"].Control"
   ]
  },
  {
   "cell_type": "code",
   "execution_count": 34,
   "metadata": {
    "collapsed": false
   },
   "outputs": [
    {
     "name": "stdout",
     "output_type": "stream",
     "text": [
      "the Gross Conversion for experiment group is 0.1983198146, the Gross Conversion for control group is 0.218874689181, the Gross Conversion for total is 0.208607067404\n"
     ]
    }
   ],
   "source": [
    "# Calculate GrossConversion for both control and experiment groups, as well as for total \n",
    "\n",
    "GrossConversion_exp = enrollments_exp/clicks_exp\n",
    "GrossConversion_cont = enrollments_cont/clicks_cont\n",
    "GrossConversion_total = (enrollments_exp + enrollments_cont)/(clicks_exp + clicks_cont)\n",
    "\n",
    "print 'the Gross Conversion for experiment group is %s, '\\\n",
    "      'the Gross Conversion for control group is %s, '\\\n",
    "      'the Gross Conversion for total is %s' %(GrossConversion_exp, GrossConversion_cont,GrossConversion_total )"
   ]
  },
  {
   "cell_type": "code",
   "execution_count": 37,
   "metadata": {
    "collapsed": false
   },
   "outputs": [
    {
     "name": "stdout",
     "output_type": "stream",
     "text": [
      "the Net Conversion for experiment group is 0.11268829664, the Net Conversion for control group is 0.117562019314, the Net Conversion for total is 0.115127485312\n"
     ]
    }
   ],
   "source": [
    "# Calculate NetConversion for both control and experiment groups, as well as for total \n",
    "\n",
    "NetConversion_exp = payments_exp/clicks_exp\n",
    "NetConversion_cont = payments_cont/clicks_cont\n",
    "NetConversion_total = (payments_exp + payments_cont)/(clicks_exp + clicks_cont)\n",
    "\n",
    "print 'the Net Conversion for experiment group is %s, '\\\n",
    "      'the Net Conversion for control group is %s, '\\\n",
    "      'the Net Conversion for total is %s' %(NetConversion_exp, NetConversion_cont,NetConversion_total )"
   ]
  },
  {
   "cell_type": "code",
   "execution_count": 38,
   "metadata": {
    "collapsed": false
   },
   "outputs": [
    {
     "data": {
      "text/plain": [
       "-0.020554874580361565"
      ]
     },
     "execution_count": 38,
     "metadata": {},
     "output_type": "execute_result"
    }
   ],
   "source": [
    "# calculate the difference between two groups\n",
    "GrossConversion_diff = GrossConversion_exp - GrossConversion_cont\n",
    "GrossConversion_diff"
   ]
  },
  {
   "cell_type": "code",
   "execution_count": 39,
   "metadata": {
    "collapsed": false
   },
   "outputs": [
    {
     "data": {
      "text/plain": [
       "-0.0048737226745441675"
      ]
     },
     "execution_count": 39,
     "metadata": {},
     "output_type": "execute_result"
    }
   ],
   "source": [
    "NetConversion_diff = NetConversion_exp - NetConversion_cont\n",
    "NetConversion_diff"
   ]
  },
  {
   "cell_type": "code",
   "execution_count": 40,
   "metadata": {
    "collapsed": true
   },
   "outputs": [],
   "source": [
    "# define a function to construct 95% CI\n",
    "\n",
    "def construct_CI (p_hat,z_score,N_cont,N_exp,diff):\n",
    "    std_err = np.sqrt((p_hat * (1- p_hat ))*(1/N_cont + 1/N_exp))\n",
    "    marg_err = z_score * std_err\n",
    "    ci_lower = diff - marg_err\n",
    "    ci_upper = diff + marg_err\n",
    "    \n",
    "    return std_err,marg_err,ci_lower,ci_upper"
   ]
  },
  {
   "cell_type": "code",
   "execution_count": 42,
   "metadata": {
    "collapsed": false
   },
   "outputs": [
    {
     "name": "stdout",
     "output_type": "stream",
     "text": [
      "0.00437167538523 0.00856848375504 -0.0291233583354 -0.0119863908253\n"
     ]
    }
   ],
   "source": [
    "# Get statistics for Gross Conversion\n",
    "\n",
    "se_gross,me_gross,cil_gross,ciu_gross = construct_CI(GrossConversion_total,1.96,clicks_cont, clicks_exp,GrossConversion_diff)\n",
    "\n",
    "print se_gross,me_gross,cil_gross,ciu_gross"
   ]
  },
  {
   "cell_type": "code",
   "execution_count": 43,
   "metadata": {
    "collapsed": false
   },
   "outputs": [
    {
     "name": "stdout",
     "output_type": "stream",
     "text": [
      "0.00343413351293 0.00673090168535 -0.0116046243599 0.0018571790108\n"
     ]
    }
   ],
   "source": [
    "# Get statistics for Net Conversion\n",
    "\n",
    "se_net,me_net,cil_net,ciu_net = construct_CI(NetConversion_total,1.96, clicks_cont, clicks_exp, NetConversion_diff)\n",
    "\n",
    "print se_net,me_net,cil_net,ciu_net"
   ]
  },
  {
   "cell_type": "markdown",
   "metadata": {},
   "source": [
    "Summary of effect size tests: since 95% confidence interval does not include zero and the minimum detectable effect value, gross conversion is both statistically and practically significant. In terms of net conversion, the 95% confidence interval includes zero and the minimum detectable effect value, indicating neither statistically nor practically significant."
   ]
  },
  {
   "cell_type": "markdown",
   "metadata": {},
   "source": [
    "Sign Tests\n",
    "\n",
    "To further test each of the evaluation metrics, a binomial sign test can be conducted to evaluate Each day of the experiment to see if there is a positive or negative difference across groups (experimental-control). Each positive difference is counted as a success, and each negative difference as a failure. Then comparing the resulting p-values for each metric to determine significance."
   ]
  },
  {
   "cell_type": "code",
   "execution_count": 52,
   "metadata": {
    "collapsed": false
   },
   "outputs": [],
   "source": [
    "# Create a summary table for each day\n",
    "df_signtest =pd.DataFrame()\n",
    "df_signtest['Date']=df_control_sub.Date\n",
    "df_signtest['GC_cont'] = df_control_sub.Enrollments/df_control_sub.Clicks\n",
    "df_signtest['GC_exp'] = df_experiment_sub.Enrollments/df_experiment_sub.Clicks\n",
    "df_signtest['NC_cont'] = df_control_sub.Payments/df_control_sub.Clicks\n",
    "df_signtest['NC_exp'] = df_experiment_sub.Payments/df_experiment_sub.Clicks"
   ]
  },
  {
   "cell_type": "code",
   "execution_count": 61,
   "metadata": {
    "collapsed": false
   },
   "outputs": [
    {
     "data": {
      "text/html": [
       "<div>\n",
       "<table border=\"1\" class=\"dataframe\">\n",
       "  <thead>\n",
       "    <tr style=\"text-align: right;\">\n",
       "      <th></th>\n",
       "      <th>Date</th>\n",
       "      <th>GC_cont</th>\n",
       "      <th>GC_exp</th>\n",
       "      <th>NC_cont</th>\n",
       "      <th>NC_exp</th>\n",
       "      <th>GC_Sign</th>\n",
       "      <th>NC_Sign</th>\n",
       "    </tr>\n",
       "  </thead>\n",
       "  <tbody>\n",
       "    <tr>\n",
       "      <th>0</th>\n",
       "      <td>Sat, Oct 11</td>\n",
       "      <td>0.195051</td>\n",
       "      <td>0.153061</td>\n",
       "      <td>0.101892</td>\n",
       "      <td>0.049563</td>\n",
       "      <td>-0.041990</td>\n",
       "      <td>-0.052330</td>\n",
       "    </tr>\n",
       "    <tr>\n",
       "      <th>1</th>\n",
       "      <td>Sun, Oct 12</td>\n",
       "      <td>0.188703</td>\n",
       "      <td>0.147771</td>\n",
       "      <td>0.089859</td>\n",
       "      <td>0.115924</td>\n",
       "      <td>-0.040933</td>\n",
       "      <td>0.026065</td>\n",
       "    </tr>\n",
       "    <tr>\n",
       "      <th>2</th>\n",
       "      <td>Mon, Oct 13</td>\n",
       "      <td>0.183718</td>\n",
       "      <td>0.164027</td>\n",
       "      <td>0.104510</td>\n",
       "      <td>0.089367</td>\n",
       "      <td>-0.019691</td>\n",
       "      <td>-0.015144</td>\n",
       "    </tr>\n",
       "    <tr>\n",
       "      <th>3</th>\n",
       "      <td>Tue, Oct 14</td>\n",
       "      <td>0.186603</td>\n",
       "      <td>0.166868</td>\n",
       "      <td>0.125598</td>\n",
       "      <td>0.111245</td>\n",
       "      <td>-0.019735</td>\n",
       "      <td>-0.014353</td>\n",
       "    </tr>\n",
       "    <tr>\n",
       "      <th>4</th>\n",
       "      <td>Wed, Oct 15</td>\n",
       "      <td>0.194743</td>\n",
       "      <td>0.168269</td>\n",
       "      <td>0.076464</td>\n",
       "      <td>0.112981</td>\n",
       "      <td>-0.026474</td>\n",
       "      <td>0.036517</td>\n",
       "    </tr>\n",
       "  </tbody>\n",
       "</table>\n",
       "</div>"
      ],
      "text/plain": [
       "          Date   GC_cont    GC_exp   NC_cont    NC_exp   GC_Sign   NC_Sign\n",
       "0  Sat, Oct 11  0.195051  0.153061  0.101892  0.049563 -0.041990 -0.052330\n",
       "1  Sun, Oct 12  0.188703  0.147771  0.089859  0.115924 -0.040933  0.026065\n",
       "2  Mon, Oct 13  0.183718  0.164027  0.104510  0.089367 -0.019691 -0.015144\n",
       "3  Tue, Oct 14  0.186603  0.166868  0.125598  0.111245 -0.019735 -0.014353\n",
       "4  Wed, Oct 15  0.194743  0.168269  0.076464  0.112981 -0.026474  0.036517"
      ]
     },
     "execution_count": 61,
     "metadata": {},
     "output_type": "execute_result"
    }
   ],
   "source": [
    "# Calculate positive or negative difference across groups \n",
    "\n",
    "df_signtest['GC_Sign'] = df_signtest.GC_exp - df_signtest.GC_cont\n",
    "df_signtest['NC_Sign'] = df_signtest.NC_exp - df_signtest.NC_cont\n",
    "\n",
    "df_signtest.head()"
   ]
  },
  {
   "cell_type": "code",
   "execution_count": 62,
   "metadata": {
    "collapsed": false
   },
   "outputs": [
    {
     "name": "stdout",
     "output_type": "stream",
     "text": [
      "The number of trial is 23,The number of Gross Conversion success is 4,The number of Net Conversion success is 10.\n"
     ]
    }
   ],
   "source": [
    "# Count the number of success \n",
    "Total = len(df_signtest)\n",
    "GC_success = len(df_signtest[df_signtest.GC_Sign > 0])\n",
    "NC_success = len(df_signtest[df_signtest.NC_Sign > 0])\n",
    "\n",
    "print 'The number of trial is %s,'\\\n",
    "      'The number of Gross Conversion success is %s,'\\\n",
    "      'The number of Net Conversion success is %s.' %(Total,GC_success,NC_success)\n"
   ]
  },
  {
   "cell_type": "code",
   "execution_count": 59,
   "metadata": {
    "collapsed": false
   },
   "outputs": [],
   "source": [
    "# %R sum(dbinom(19:23,size=23,p=0.5)) * 2\n",
    "# P= 0.002599478  < 0.05 reject Ho\n",
    "\n",
    "# %R sum(dbinom(13:23,size=23,p=0.5)) * 2\n",
    "# P= 0.6776395  < 0.05   accept Ho"
   ]
  },
  {
   "cell_type": "markdown",
   "metadata": {},
   "source": [
    "Significance definitions\n",
    "A metric is statistically significant if the confidence interval does not include 0 (that is, you can be confident there was a change), and it is practically significant if the confidence interval does not include the practical significance boundary (that is, you can be confident there is a change that matters to the business.)"
   ]
  }
 ],
 "metadata": {
  "anaconda-cloud": {},
  "kernelspec": {
   "display_name": "Python [Root]",
   "language": "python",
   "name": "Python [Root]"
  },
  "language_info": {
   "codemirror_mode": {
    "name": "ipython",
    "version": 2
   },
   "file_extension": ".py",
   "mimetype": "text/x-python",
   "name": "python",
   "nbconvert_exporter": "python",
   "pygments_lexer": "ipython2",
   "version": "2.7.12"
  }
 },
 "nbformat": 4,
 "nbformat_minor": 0
}
